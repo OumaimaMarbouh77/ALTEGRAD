{
  "nbformat": 4,
  "nbformat_minor": 0,
  "metadata": {
    "colab": {
      "name": "ALTEGRAD_2021_Lab1_HAN_Handout_marbouh_oumaima.ipynb",
      "provenance": [],
      "collapsed_sections": []
    },
    "kernelspec": {
      "display_name": "Python 3",
      "name": "python3"
    },
    "language_info": {
      "codemirror_mode": {
        "name": "ipython",
        "version": 3
      },
      "file_extension": ".py",
      "mimetype": "text/x-python",
      "name": "python",
      "nbconvert_exporter": "python",
      "pygments_lexer": "ipython3",
      "version": "3.6.13"
    }
  },
  "cells": [
    {
      "cell_type": "markdown",
      "metadata": {
        "id": "MuVouapRmjEW"
      },
      "source": [
        "<center><h2>ALTeGraD 2021<br>Lab Session 1: HAN</h2><h3>Hierarchical Attention Network Using GRU</h3> 09 / 11 / 2021<br> M. Kamal Eddine, H. Abdine</center>\n",
        "\n",
        "\n"
      ]
    },
    {
      "cell_type": "code",
      "metadata": {
        "colab": {
          "base_uri": "https://localhost:8080/"
        },
        "id": "uFeJCQLjZRDy",
        "outputId": "42c465b4-eda4-44f8-e30e-a65f0ce1aeb5"
      },
      "source": [
        "!pip3 uninstall keras-nightly\n",
        "!pip3 uninstall -y tensorflow\n",
        "!pip3 install keras==2.2.5\n",
        "!pip3 install tensorflow==1.9.0\n",
        "!pip3 install h5py==2.10.0"
      ],
      "execution_count": null,
      "outputs": [
        {
          "output_type": "stream",
          "name": "stdout",
          "text": [
            "\u001b[33mWARNING: Skipping keras-nightly as it is not installed.\u001b[0m\n",
            "Found existing installation: tensorflow 2.7.0\n",
            "Uninstalling tensorflow-2.7.0:\n",
            "  Successfully uninstalled tensorflow-2.7.0\n",
            "Collecting keras==2.2.5\n",
            "  Downloading Keras-2.2.5-py2.py3-none-any.whl (336 kB)\n",
            "\u001b[K     |████████████████████████████████| 336 kB 5.3 MB/s \n",
            "\u001b[?25hRequirement already satisfied: scipy>=0.14 in /usr/local/lib/python3.7/dist-packages (from keras==2.2.5) (1.4.1)\n",
            "Requirement already satisfied: numpy>=1.9.1 in /usr/local/lib/python3.7/dist-packages (from keras==2.2.5) (1.19.5)\n",
            "Requirement already satisfied: pyyaml in /usr/local/lib/python3.7/dist-packages (from keras==2.2.5) (3.13)\n",
            "Collecting keras-applications>=1.0.8\n",
            "  Downloading Keras_Applications-1.0.8-py3-none-any.whl (50 kB)\n",
            "\u001b[K     |████████████████████████████████| 50 kB 6.0 MB/s \n",
            "\u001b[?25hRequirement already satisfied: h5py in /usr/local/lib/python3.7/dist-packages (from keras==2.2.5) (3.1.0)\n",
            "Requirement already satisfied: keras-preprocessing>=1.1.0 in /usr/local/lib/python3.7/dist-packages (from keras==2.2.5) (1.1.2)\n",
            "Requirement already satisfied: six>=1.9.0 in /usr/local/lib/python3.7/dist-packages (from keras==2.2.5) (1.15.0)\n",
            "Requirement already satisfied: cached-property in /usr/local/lib/python3.7/dist-packages (from h5py->keras==2.2.5) (1.5.2)\n",
            "Installing collected packages: keras-applications, keras\n",
            "  Attempting uninstall: keras\n",
            "    Found existing installation: keras 2.7.0\n",
            "    Uninstalling keras-2.7.0:\n",
            "      Successfully uninstalled keras-2.7.0\n",
            "Successfully installed keras-2.2.5 keras-applications-1.0.8\n",
            "\u001b[31mERROR: Could not find a version that satisfies the requirement tensorflow==1.9.0 (from versions: 1.13.1, 1.13.2, 1.14.0, 1.15.0, 1.15.2, 1.15.3, 1.15.4, 1.15.5, 2.0.0, 2.0.1, 2.0.2, 2.0.3, 2.0.4, 2.1.0, 2.1.1, 2.1.2, 2.1.3, 2.1.4, 2.2.0rc0, 2.2.0rc1, 2.2.0rc2, 2.2.0rc3, 2.2.0rc4, 2.2.0, 2.2.1, 2.2.2, 2.2.3, 2.3.0rc0, 2.3.0rc1, 2.3.0rc2, 2.3.0, 2.3.1, 2.3.2, 2.3.3, 2.3.4, 2.4.0rc0, 2.4.0rc1, 2.4.0rc2, 2.4.0rc3, 2.4.0rc4, 2.4.0, 2.4.1, 2.4.2, 2.4.3, 2.4.4, 2.5.0rc0, 2.5.0rc1, 2.5.0rc2, 2.5.0rc3, 2.5.0, 2.5.1, 2.5.2, 2.6.0rc0, 2.6.0rc1, 2.6.0rc2, 2.6.0, 2.6.1, 2.6.2, 2.7.0rc0, 2.7.0rc1, 2.7.0)\u001b[0m\n",
            "\u001b[31mERROR: No matching distribution found for tensorflow==1.9.0\u001b[0m\n",
            "Collecting h5py==2.10.0\n",
            "  Downloading h5py-2.10.0-cp37-cp37m-manylinux1_x86_64.whl (2.9 MB)\n",
            "\u001b[K     |████████████████████████████████| 2.9 MB 5.4 MB/s \n",
            "\u001b[?25hRequirement already satisfied: six in /usr/local/lib/python3.7/dist-packages (from h5py==2.10.0) (1.15.0)\n",
            "Requirement already satisfied: numpy>=1.7 in /usr/local/lib/python3.7/dist-packages (from h5py==2.10.0) (1.19.5)\n",
            "Installing collected packages: h5py\n",
            "  Attempting uninstall: h5py\n",
            "    Found existing installation: h5py 3.1.0\n",
            "    Uninstalling h5py-3.1.0:\n",
            "      Successfully uninstalled h5py-3.1.0\n",
            "Successfully installed h5py-2.10.0\n"
          ]
        }
      ]
    },
    {
      "cell_type": "code",
      "metadata": {
        "colab": {
          "base_uri": "https://localhost:8080/"
        },
        "id": "ogg6hkhFW8Jz",
        "outputId": "8c4255b7-d21c-4684-b9fe-ee91574eda6f"
      },
      "source": [
        "# In case you are using google colab:\n",
        "# uncomment the following two lines: \n",
        "\n",
        "%tensorflow_version 1.9\n",
        "!pip install keras==2.2.5\n",
        "\n",
        "!wget -c \"https://onedrive.live.com/download?cid=AE69638675180117&resid=AE69638675180117%2199289&authkey=AHgxt3xmgG0Fu5A\" -O \"data.zip\"\n",
        "!unzip data.zip"
      ],
      "execution_count": null,
      "outputs": [
        {
          "output_type": "stream",
          "name": "stdout",
          "text": [
            "`%tensorflow_version` only switches the major version: 1.x or 2.x.\n",
            "You set: `1.9`. This will be interpreted as: `1.x`.\n",
            "\n",
            "\n",
            "TensorFlow 1.x selected.\n",
            "Collecting keras==2.2.5\n",
            "  Using cached Keras-2.2.5-py2.py3-none-any.whl (336 kB)\n",
            "Requirement already satisfied: keras-preprocessing>=1.1.0 in /usr/local/lib/python3.7/dist-packages (from keras==2.2.5) (1.1.2)\n",
            "Requirement already satisfied: keras-applications>=1.0.8 in /tensorflow-1.15.2/python3.7 (from keras==2.2.5) (1.0.8)\n",
            "Requirement already satisfied: h5py in /usr/local/lib/python3.7/dist-packages (from keras==2.2.5) (2.10.0)\n",
            "Requirement already satisfied: six>=1.9.0 in /usr/local/lib/python3.7/dist-packages (from keras==2.2.5) (1.15.0)\n",
            "Requirement already satisfied: scipy>=0.14 in /usr/local/lib/python3.7/dist-packages (from keras==2.2.5) (1.4.1)\n",
            "Requirement already satisfied: numpy>=1.9.1 in /usr/local/lib/python3.7/dist-packages (from keras==2.2.5) (1.19.5)\n",
            "Requirement already satisfied: pyyaml in /usr/local/lib/python3.7/dist-packages (from keras==2.2.5) (3.13)\n",
            "Installing collected packages: keras\n",
            "  Attempting uninstall: keras\n",
            "    Found existing installation: Keras 2.3.1\n",
            "    Uninstalling Keras-2.3.1:\n",
            "      Successfully uninstalled Keras-2.3.1\n",
            "Successfully installed keras-2.2.5\n",
            "--2021-11-14 15:32:25--  https://onedrive.live.com/download?cid=AE69638675180117&resid=AE69638675180117%2199289&authkey=AHgxt3xmgG0Fu5A\n",
            "Resolving onedrive.live.com (onedrive.live.com)... 13.107.42.13\n",
            "Connecting to onedrive.live.com (onedrive.live.com)|13.107.42.13|:443... connected.\n",
            "HTTP request sent, awaiting response... 302 Found\n",
            "Location: https://vqtlqw.am.files.1drv.com/y4mg6ABtwyxSXKzaebHFFmSjdRMdUSCw4UrZSGyXaYwmtiSdoodQOKQT83ycchu9XYKjIf07-8lIBOEFstDNix6MOblg_bTJh5UuqXlCSNB9cvXnHMDn2eB8JGdRqLSdAGg7uG7hpBGcjHeb3CJK1K8GTGl14FtnNajWdGrvrUrUOKkkepMq4OyA_VgVUG78YjayeSXCooYoyAM0U1kM35Ihw/data.zip?download&psid=1 [following]\n",
            "--2021-11-14 15:32:26--  https://vqtlqw.am.files.1drv.com/y4mg6ABtwyxSXKzaebHFFmSjdRMdUSCw4UrZSGyXaYwmtiSdoodQOKQT83ycchu9XYKjIf07-8lIBOEFstDNix6MOblg_bTJh5UuqXlCSNB9cvXnHMDn2eB8JGdRqLSdAGg7uG7hpBGcjHeb3CJK1K8GTGl14FtnNajWdGrvrUrUOKkkepMq4OyA_VgVUG78YjayeSXCooYoyAM0U1kM35Ihw/data.zip?download&psid=1\n",
            "Resolving vqtlqw.am.files.1drv.com (vqtlqw.am.files.1drv.com)... 13.107.42.12\n",
            "Connecting to vqtlqw.am.files.1drv.com (vqtlqw.am.files.1drv.com)|13.107.42.12|:443... connected.\n",
            "HTTP request sent, awaiting response... 200 OK\n",
            "Length: 12650196 (12M) [application/zip]\n",
            "Saving to: ‘data.zip’\n",
            "\n",
            "data.zip            100%[===================>]  12.06M  9.65MB/s    in 1.3s    \n",
            "\n",
            "2021-11-14 15:32:28 (9.65 MB/s) - ‘data.zip’ saved [12650196/12650196]\n",
            "\n",
            "Archive:  data.zip\n",
            "   creating: data/\n",
            "  inflating: __MACOSX/._data         \n",
            "  inflating: data/labels_train.npy   \n",
            "  inflating: __MACOSX/data/._labels_train.npy  \n",
            "  inflating: data/docs_test.npy      \n",
            "  inflating: __MACOSX/data/._docs_test.npy  \n",
            "  inflating: data/labels_test.npy    \n",
            "  inflating: __MACOSX/data/._labels_test.npy  \n",
            "  inflating: data/word_to_index.json  \n",
            "  inflating: __MACOSX/data/._word_to_index.json  \n",
            "  inflating: data/docs_train.npy     \n",
            "  inflating: __MACOSX/data/._docs_train.npy  \n"
          ]
        }
      ]
    },
    {
      "cell_type": "code",
      "metadata": {
        "colab": {
          "base_uri": "https://localhost:8080/"
        },
        "id": "gdrvJ49aYxp5",
        "outputId": "dc0c2249-00af-477c-9543-9a9188f03a27"
      },
      "source": [
        "import tensorflow \n",
        "print(tensorflow.__version__)"
      ],
      "execution_count": null,
      "outputs": [
        {
          "output_type": "stream",
          "name": "stdout",
          "text": [
            "1.15.2\n"
          ]
        }
      ]
    },
    {
      "cell_type": "markdown",
      "metadata": {
        "id": "xJaSJaIP1xRy"
      },
      "source": [
        "# = = = = = Attention Layer = = = = ="
      ]
    },
    {
      "cell_type": "code",
      "metadata": {
        "id": "MeXk--0rncj4"
      },
      "source": [
        "def dot_product(x, kernel):\n",
        "    \"\"\"\n",
        "    https://github.com/richliao/textClassifier/issues/13#issuecomment-377323318\n",
        "    Wrapper for dot product operation, in order to be compatible with both\n",
        "    Theano and Tensorflow\n",
        "    Args:\n",
        "        x (): input\n",
        "        kernel (): weights\n",
        "    Returns:\n",
        "    \"\"\"\n",
        "    if K.backend() == 'tensorflow':\n",
        "        return K.squeeze(K.dot(x, K.expand_dims(kernel)), axis=-1)\n",
        "    else:\n",
        "        return K.dot(x, kernel)"
      ],
      "execution_count": null,
      "outputs": []
    },
    {
      "cell_type": "code",
      "metadata": {
        "id": "yoM7H0KQncpF",
        "colab": {
          "base_uri": "https://localhost:8080/"
        },
        "outputId": "084ab8b4-6138-4b87-8e15-54d536dc0a86"
      },
      "source": [
        "import keras.backend as K\n",
        "from keras.layers import Layer as Layer\n",
        "from keras import initializers, regularizers, constraints\n",
        "\n",
        "class AttentionWithContext(Layer):\n",
        "    \"\"\"\n",
        "    Follows the work of Yang et al. [https://www.cs.cmu.edu/~diyiy/docs/naacl16.pdf]\n",
        "    \"Hierarchical Attention Networks for Document Classification\"\n",
        "    by using a context vector to assist the attention\n",
        "    # Input shape\n",
        "        3D tensor with shape: `(samples, steps, features)`.\n",
        "    # Output shape\n",
        "        2D tensor with shape: `(samples, features)`.\n",
        "    \n",
        "    How to use:\n",
        "    Just put it on top of an RNN Layer (GRU/LSTM/SimpleRNN) with return_sequences=True.\n",
        "    The dimensions are inferred based on the output shape of the RNN.\n",
        "    \n",
        "    Example:\n",
        "        model.add(LSTM(64, return_sequences=True))\n",
        "        model.add(AttentionWithContext())\n",
        "        # next add a Dense layer (for classification/regression) or whatever...\n",
        "    \"\"\"\n",
        "    \n",
        "    def __init__(self, return_coefficients=False,\n",
        "                 W_regularizer=None, u_regularizer=None, b_regularizer=None,\n",
        "                 W_constraint=None, u_constraint=None, b_constraint=None,\n",
        "                 bias=True, **kwargs):\n",
        "        self.supports_masking = True\n",
        "        self.return_coefficients = return_coefficients\n",
        "        self.init = initializers.get('glorot_uniform')\n",
        "        \n",
        "        self.W_regularizer = regularizers.get(W_regularizer)\n",
        "        self.u_regularizer = regularizers.get(u_regularizer)\n",
        "        self.b_regularizer = regularizers.get(b_regularizer)\n",
        "        \n",
        "        self.W_constraint = constraints.get(W_constraint)\n",
        "        self.u_constraint = constraints.get(u_constraint)\n",
        "        self.b_constraint = constraints.get(b_constraint)\n",
        "        \n",
        "        self.bias = bias\n",
        "        super(AttentionWithContext, self).__init__(**kwargs)\n",
        "    \n",
        "    def build(self, input_shape):\n",
        "        assert len(input_shape) == 3\n",
        "        \n",
        "        self.W = self.add_weight((input_shape[-1], input_shape[-1],),\n",
        "                                 initializer=self.init,\n",
        "                                 name='{}_W'.format(self.name),\n",
        "                                 regularizer=self.W_regularizer,\n",
        "                                 constraint=self.W_constraint)\n",
        "        if self.bias:\n",
        "            self.b = self.add_weight((input_shape[-1],),\n",
        "                                     initializer='zero',\n",
        "                                     name='{}_b'.format(self.name),\n",
        "                                     regularizer=self.b_regularizer,\n",
        "                                     constraint=self.b_constraint)\n",
        "        \n",
        "        self.u = self.add_weight((input_shape[-1],),\n",
        "                                 initializer=self.init,\n",
        "                                 name='{}_u'.format(self.name),\n",
        "                                 regularizer=self.u_regularizer,\n",
        "                                 constraint=self.u_constraint)\n",
        "        \n",
        "        super(AttentionWithContext, self).build(input_shape)\n",
        "    \n",
        "    def compute_mask(self, input, input_mask=None):\n",
        "        # do not pass the mask to the next layers\n",
        "        return None\n",
        "    \n",
        "    def call(self, x, mask=None):\n",
        "        uit = dot_product(x, self.W)\n",
        "        \n",
        "        if self.bias:\n",
        "            uit += self.b\n",
        "        \n",
        "        uit = K.tanh(uit)\n",
        "        ait = dot_product(uit, self.u)\n",
        "        \n",
        "        a = K.exp(ait)\n",
        "        \n",
        "        # apply mask after the exp. will be re-normalized next\n",
        "        if mask is not None:\n",
        "            # Cast the mask to floatX to avoid float64 upcasting in theano\n",
        "            a *= K.cast(mask, K.floatx())\n",
        "        \n",
        "        # in some cases especially in the early stages of training the sum may be almost zero\n",
        "        # and this results in NaN's. A workaround is to add a very small positive number ε to the sum.\n",
        "        # a /= K.cast(K.sum(a, axis=1, keepdims=True), K.floatx())\n",
        "        a /= K.cast(K.sum(a, axis=1, keepdims=True) + K.epsilon(), K.floatx())\n",
        "        \n",
        "        a = K.expand_dims(a)\n",
        "        weighted_input = x * a \n",
        "        ### fill the gap ### # compute the attentional vector\n",
        "        \n",
        "        if self.return_coefficients:\n",
        "            return  [K.sum(weighted_input, axis=1), a]### fill the gap - [attentional vector, coefficients] ###\n",
        "        else:\n",
        "            return K.sum(weighted_input, axis=1)### fill the gap - attentional vector only ###\n",
        "    \n",
        "    \n",
        "    \n",
        "    def compute_output_shape(self, input_shape):\n",
        "        if self.return_coefficients:\n",
        "            return [(input_shape[0], input_shape[-1]), (input_shape[0], input_shape[-1], 1)]\n",
        "        else:\n",
        "            return input_shape[0], input_shape[-1]"
      ],
      "execution_count": null,
      "outputs": [
        {
          "output_type": "stream",
          "name": "stderr",
          "text": [
            "Using TensorFlow backend.\n"
          ]
        }
      ]
    },
    {
      "cell_type": "markdown",
      "metadata": {
        "id": "AB-WOy4YHlsr"
      },
      "source": [
        "# = = = = = Bidirectional GRU = = = = =\n",
        "#### fill the gaps in the bidir_gru function below ###\n",
        "#### add a RNN-GRU layer and a bidirectional wrapper ###\n",
        "#### bidirectional: search for 'bidirectional' [here](https://keras.io/layers/wrappers/)\n",
        "#### GRU: search for 'GRU' [here](https://keras.io/layers/recurrent/)\n",
        "#### layers can be combined by nesting them as: layer_b(parameters_b)(layer_a(parameters_a)(input))"
      ]
    },
    {
      "cell_type": "code",
      "metadata": {
        "id": "qoFkuGwNncwy"
      },
      "source": [
        "from keras.layers import Bidirectional, GRU\n",
        "\n",
        "def bidir_gru(my_seq,n_units):\n",
        "    '''\n",
        "    just a convenient wrapper for bidirectional RNN with GRU units\n",
        "    '''\n",
        "    return Bidirectional(GRU(units=n_units, activation='tanh', implementation=1, return_sequences=True, reset_after=True,\n",
        "                                 recurrent_activation='sigmoid'),merge_mode='concat', weights=None)(my_seq)\n"
      ],
      "execution_count": null,
      "outputs": []
    },
    {
      "cell_type": "markdown",
      "metadata": {
        "id": "DgTP6GrOHlss"
      },
      "source": [
        "# = = = = = Parameters = = = = ="
      ]
    },
    {
      "cell_type": "code",
      "metadata": {
        "id": "czsVjxgYnczb"
      },
      "source": [
        "import sys\n",
        "import json\n",
        "import operator\n",
        "import numpy as np\n",
        "\n",
        "path_root = 'for_moodle/'\n",
        "path_to_data = path_root + 'data/'\n",
        "path_to_data='/content/data/'\n",
        "\n",
        "d = 30 # dimensionality of word embeddings\n",
        "n_units = 50 # RNN layer dimensionality\n",
        "drop_rate = 0.5 # dropout\n",
        "mfw_idx = 2 # index of the most frequent words in the dictionary \n",
        "            # 0 is for the special padding token\n",
        "            # 1 is for the special out-of-vocabulary token\n",
        "\n",
        "padding_idx = 0\n",
        "oov_idx = 1\n",
        "batch_size = 32\n",
        "nb_epochs = 6\n",
        "my_optimizer = 'adam'\n",
        "my_patience = 2 # for early stopping strategy"
      ],
      "execution_count": null,
      "outputs": []
    },
    {
      "cell_type": "markdown",
      "metadata": {
        "id": "K8Vot_C7Hlst"
      },
      "source": [
        "# = = = = = Data Loading = = = = ="
      ]
    },
    {
      "cell_type": "code",
      "metadata": {
        "id": "UD6hRh0OHlst"
      },
      "source": [
        "my_docs_array_train = np.load(path_to_data + 'docs_train.npy')\n",
        "my_docs_array_test = np.load(path_to_data + 'docs_test.npy')\n",
        "\n",
        "my_labels_array_train = np.load(path_to_data + 'labels_train.npy')\n",
        "my_labels_array_test = np.load(path_to_data + 'labels_test.npy')\n",
        "\n",
        "# load dictionary of word indexes (sorted by decreasing frequency across the corpus)\n",
        "with open(path_to_data + 'word_to_index.json', 'r') as my_file:\n",
        "    word_to_index = json.load(my_file)\n",
        "\n",
        "# invert mapping\n",
        "index_to_word = dict((v,k) for k,v in word_to_index.items()) ### fill the gap (use a dict comprehension) ###"
      ],
      "execution_count": null,
      "outputs": []
    },
    {
      "cell_type": "markdown",
      "metadata": {
        "id": "6rzqEGOdHlst"
      },
      "source": [
        "# = = = = = Defining Architecture = = = = ="
      ]
    },
    {
      "cell_type": "code",
      "metadata": {
        "colab": {
          "base_uri": "https://localhost:8080/"
        },
        "id": "AMj9j1_pHlst",
        "outputId": "9ff1f5e6-aea7-48e5-de8c-c1d5dcbcd41a"
      },
      "source": [
        "from keras.models import Model\n",
        "from keras.layers import Input, Embedding, Dropout, TimeDistributed, Dense\n",
        "\n",
        "sent_ints = Input(shape=(my_docs_array_train.shape[2],)) # vec of ints of variable size\n",
        "sent_wv = Embedding(input_dim=len(index_to_word)+2, # vocab size\n",
        "                    output_dim=d, # dimensionality of embedding space\n",
        "                    input_length=my_docs_array_train.shape[2],\n",
        "                    trainable=True\n",
        "                    )(sent_ints)\n",
        "sent_wv_dr = Dropout(drop_rate)(sent_wv)\n",
        "sent_wa = bidir_gru(sent_wv_dr,n_units)# get the annotations for each word in the sent\n",
        "sent_att_vec,word_att_coeffs = AttentionWithContext(n_units)(sent_wa)# get the attentional vector for the sentence\n",
        "sent_att_vec_dr = Dropout(drop_rate)(sent_att_vec)                     \n",
        "sent_encoder = Model(sent_ints,sent_att_vec_dr)\n",
        "\n",
        "doc_ints = Input(shape=(my_docs_array_train.shape[1],my_docs_array_train.shape[2],))\n",
        "sent_att_vecs_dr = TimeDistributed(sent_encoder)(doc_ints)# apply the sentence encoder model to each sentence in the document. Search for 'TimeDistributed' in https://keras.io/layers/wrappers/\n",
        "doc_sa = bidir_gru(sent_att_vecs_dr,n_units) ### fill the gap ### # get annotations for each sent in the doc\n",
        "doc_att_vec,sent_att_coeffs = AttentionWithContext(n_units)(doc_sa)# get attentional vector for the doc\n",
        "doc_att_vec_dr = Dropout(drop_rate)(doc_att_vec)\n",
        "                  \n",
        "preds = Dense(units=1,\n",
        "              activation='sigmoid')(doc_att_vec_dr)\n",
        "model = Model(doc_ints,preds)\n",
        "\n",
        "model.compile(loss='binary_crossentropy',\n",
        "              optimizer = my_optimizer,\n",
        "              metrics = ['accuracy'])\n",
        "\n",
        "print('model compiled')"
      ],
      "execution_count": null,
      "outputs": [
        {
          "output_type": "stream",
          "name": "stdout",
          "text": [
            "WARNING:tensorflow:From /usr/local/lib/python3.7/dist-packages/keras/backend/tensorflow_backend.py:66: The name tf.get_default_graph is deprecated. Please use tf.compat.v1.get_default_graph instead.\n",
            "\n",
            "WARNING:tensorflow:From /usr/local/lib/python3.7/dist-packages/keras/backend/tensorflow_backend.py:541: The name tf.placeholder is deprecated. Please use tf.compat.v1.placeholder instead.\n",
            "\n",
            "WARNING:tensorflow:From /usr/local/lib/python3.7/dist-packages/keras/backend/tensorflow_backend.py:4432: The name tf.random_uniform is deprecated. Please use tf.random.uniform instead.\n",
            "\n",
            "WARNING:tensorflow:From /usr/local/lib/python3.7/dist-packages/keras/backend/tensorflow_backend.py:148: The name tf.placeholder_with_default is deprecated. Please use tf.compat.v1.placeholder_with_default instead.\n",
            "\n",
            "WARNING:tensorflow:From /usr/local/lib/python3.7/dist-packages/keras/backend/tensorflow_backend.py:3733: calling dropout (from tensorflow.python.ops.nn_ops) with keep_prob is deprecated and will be removed in a future version.\n",
            "Instructions for updating:\n",
            "Please use `rate` instead of `keep_prob`. Rate should be set to `rate = 1 - keep_prob`.\n",
            "WARNING:tensorflow:From /usr/local/lib/python3.7/dist-packages/keras/optimizers.py:793: The name tf.train.Optimizer is deprecated. Please use tf.compat.v1.train.Optimizer instead.\n",
            "\n",
            "WARNING:tensorflow:From /usr/local/lib/python3.7/dist-packages/keras/backend/tensorflow_backend.py:3657: The name tf.log is deprecated. Please use tf.math.log instead.\n",
            "\n",
            "WARNING:tensorflow:From /tensorflow-1.15.2/python3.7/tensorflow_core/python/ops/nn_impl.py:183: where (from tensorflow.python.ops.array_ops) is deprecated and will be removed in a future version.\n",
            "Instructions for updating:\n",
            "Use tf.where in 2.0, which has the same broadcast rule as np.where\n",
            "model compiled\n"
          ]
        }
      ]
    },
    {
      "cell_type": "markdown",
      "metadata": {
        "id": "sgreR5AcHlst"
      },
      "source": [
        "# = = = = = Training = = = = ="
      ]
    },
    {
      "cell_type": "code",
      "metadata": {
        "colab": {
          "base_uri": "https://localhost:8080/"
        },
        "id": "rbW_vheGHlst",
        "outputId": "8ce9e285-82a9-4a82-e166-bf6aa6e913e7"
      },
      "source": [
        "from keras.callbacks import EarlyStopping, ModelCheckpoint\n",
        "\n",
        "loading_pretrained = False\n",
        "\n",
        "if not loading_pretrained:\n",
        "    early_stopping = EarlyStopping(monitor='val_acc',\n",
        "                                   patience=my_patience,\n",
        "                                   mode='max')\n",
        "    \n",
        "    # save model corresponding to best epoch\n",
        "    checkpointer = ModelCheckpoint(filepath=path_to_data + 'model', \n",
        "                                   verbose=1, \n",
        "                                   save_best_only=True,\n",
        "                                   save_weights_only=True)\n",
        "    \n",
        "    # 200s/epoch on CPU - reaches 84.38% accuracy in 2 epochs\n",
        "    ### fill the gap ### # call the .fit() method on your model with the arguments: my_docs_array_train, my_labels_array_train, batch_size, nb_epochs, my_docs_array_test, my_labels_array_test, early_stopping\n",
        "    # look at: https://keras.io/models/sequential/#fit\n",
        "    model.fit(x=my_docs_array_train, y=my_labels_array_train, batch_size=batch_size, epochs=nb_epochs,validation_data=(my_docs_array_test, my_labels_array_test), callbacks=[early_stopping]) # checkpointer\n",
        "\n",
        "else:\n",
        "    model.load_weights(path_to_data + 'model')"
      ],
      "execution_count": null,
      "outputs": [
        {
          "output_type": "stream",
          "name": "stdout",
          "text": [
            "WARNING:tensorflow:From /usr/local/lib/python3.7/dist-packages/keras/backend/tensorflow_backend.py:1033: The name tf.assign_add is deprecated. Please use tf.compat.v1.assign_add instead.\n",
            "\n",
            "WARNING:tensorflow:From /usr/local/lib/python3.7/dist-packages/keras/backend/tensorflow_backend.py:1020: The name tf.assign is deprecated. Please use tf.compat.v1.assign instead.\n",
            "\n",
            "WARNING:tensorflow:From /usr/local/lib/python3.7/dist-packages/keras/backend/tensorflow_backend.py:3005: The name tf.Session is deprecated. Please use tf.compat.v1.Session instead.\n",
            "\n",
            "Train on 25000 samples, validate on 25000 samples\n",
            "Epoch 1/6\n",
            "WARNING:tensorflow:From /usr/local/lib/python3.7/dist-packages/keras/backend/tensorflow_backend.py:190: The name tf.get_default_session is deprecated. Please use tf.compat.v1.get_default_session instead.\n",
            "\n",
            "WARNING:tensorflow:From /usr/local/lib/python3.7/dist-packages/keras/backend/tensorflow_backend.py:197: The name tf.ConfigProto is deprecated. Please use tf.compat.v1.ConfigProto instead.\n",
            "\n",
            "WARNING:tensorflow:From /usr/local/lib/python3.7/dist-packages/keras/backend/tensorflow_backend.py:207: The name tf.global_variables is deprecated. Please use tf.compat.v1.global_variables instead.\n",
            "\n",
            "WARNING:tensorflow:From /usr/local/lib/python3.7/dist-packages/keras/backend/tensorflow_backend.py:216: The name tf.is_variable_initialized is deprecated. Please use tf.compat.v1.is_variable_initialized instead.\n",
            "\n",
            "WARNING:tensorflow:From /usr/local/lib/python3.7/dist-packages/keras/backend/tensorflow_backend.py:223: The name tf.variables_initializer is deprecated. Please use tf.compat.v1.variables_initializer instead.\n",
            "\n",
            "25000/25000 [==============================] - 121s 5ms/step - loss: 0.4734 - acc: 0.7558 - val_loss: 0.4037 - val_acc: 0.8151\n",
            "Epoch 2/6\n",
            "25000/25000 [==============================] - 116s 5ms/step - loss: 0.2713 - acc: 0.8886 - val_loss: 0.3969 - val_acc: 0.8356\n",
            "Epoch 3/6\n",
            "25000/25000 [==============================] - 117s 5ms/step - loss: 0.1943 - acc: 0.9252 - val_loss: 0.4348 - val_acc: 0.8286\n",
            "Epoch 4/6\n",
            "25000/25000 [==============================] - 117s 5ms/step - loss: 0.1441 - acc: 0.9466 - val_loss: 0.5088 - val_acc: 0.8075\n"
          ]
        }
      ]
    },
    {
      "cell_type": "code",
      "metadata": {
        "colab": {
          "base_uri": "https://localhost:8080/"
        },
        "id": "QHy74I71oJ8E",
        "outputId": "b63cdd64-79e5-4ef1-ac9d-bc172906b0ad"
      },
      "source": [
        "model.summary()"
      ],
      "execution_count": null,
      "outputs": [
        {
          "output_type": "stream",
          "name": "stdout",
          "text": [
            "Model: \"model_2\"\n",
            "_________________________________________________________________\n",
            "Layer (type)                 Output Shape              Param #   \n",
            "=================================================================\n",
            "input_2 (InputLayer)         (None, 7, 30)             0         \n",
            "_________________________________________________________________\n",
            "time_distributed_1 (TimeDist (None, 7, 100)            932940    \n",
            "_________________________________________________________________\n",
            "bidirectional_2 (Bidirection (None, 7, 100)            45600     \n",
            "_________________________________________________________________\n",
            "attention_with_context_2 (At [(None, 100), (None, 100, 10200     \n",
            "_________________________________________________________________\n",
            "dropout_3 (Dropout)          (None, 100)               0         \n",
            "_________________________________________________________________\n",
            "dense_1 (Dense)              (None, 1)                 101       \n",
            "=================================================================\n",
            "Total params: 988,841\n",
            "Trainable params: 988,841\n",
            "Non-trainable params: 0\n",
            "_________________________________________________________________\n"
          ]
        }
      ]
    },
    {
      "cell_type": "markdown",
      "metadata": {
        "id": "Dvyr8B5QHlst"
      },
      "source": [
        "# = = = = = Extraction of Attention Coefficients = = = = ="
      ]
    },
    {
      "cell_type": "code",
      "metadata": {
        "colab": {
          "base_uri": "https://localhost:8080/"
        },
        "id": "y_PKyFNarDKB",
        "outputId": "9dbd8fdf-06ce-4fd2-fce1-027f137d7dd7"
      },
      "source": [
        "sent_encoder.summary()"
      ],
      "execution_count": null,
      "outputs": [
        {
          "output_type": "stream",
          "name": "stdout",
          "text": [
            "Model: \"model_1\"\n",
            "_________________________________________________________________\n",
            "Layer (type)                 Output Shape              Param #   \n",
            "=================================================================\n",
            "input_1 (InputLayer)         (None, 30)                0         \n",
            "_________________________________________________________________\n",
            "embedding_1 (Embedding)      (None, 30, 30)            898140    \n",
            "_________________________________________________________________\n",
            "dropout_1 (Dropout)          (None, 30, 30)            0         \n",
            "_________________________________________________________________\n",
            "bidirectional_1 (Bidirection (None, 30, 100)           24600     \n",
            "_________________________________________________________________\n",
            "attention_with_context_1 (At [(None, 100), (None, 100, 10200     \n",
            "_________________________________________________________________\n",
            "dropout_2 (Dropout)          (None, 100)               0         \n",
            "=================================================================\n",
            "Total params: 932,940\n",
            "Trainable params: 932,940\n",
            "Non-trainable params: 0\n",
            "_________________________________________________________________\n"
          ]
        }
      ]
    },
    {
      "cell_type": "code",
      "metadata": {
        "id": "UVr8cS4MHlst"
      },
      "source": [
        "from keras.models import Model\n",
        "\n",
        "# define intermediate models\n",
        "### fill the two gaps below ###\n",
        "get_word_att_coeffs = Model(inputs = sent_encoder.input, outputs = sent_encoder.get_layer(index=-2).output[1]) # attention coeffs over the words in a sent\n",
        "get_sent_attention_coeffs = Model(inputs = model.input, outputs = model.get_layer(index=-3).output[1]) # attention coeffs over the sents in the doc\n",
        "\n",
        "my_review = my_docs_array_test[-1:,:,:] # select last review\n",
        "# convert integer review to text\n",
        "index_to_word[1] = 'OOV'\n",
        "my_review_text = [[index_to_word[idx] for idx in sent if idx in index_to_word] for sent in my_review.tolist()[0]]"
      ],
      "execution_count": null,
      "outputs": []
    },
    {
      "cell_type": "code",
      "metadata": {
        "colab": {
          "base_uri": "https://localhost:8080/"
        },
        "id": "YKKUvFc2_0sE",
        "outputId": "20bb7eb0-8142-45a1-931d-e437aa4f7add"
      },
      "source": [
        "len(my_review_text[0])"
      ],
      "execution_count": null,
      "outputs": [
        {
          "output_type": "execute_result",
          "data": {
            "text/plain": [
              "26"
            ]
          },
          "metadata": {},
          "execution_count": 14
        }
      ]
    },
    {
      "cell_type": "markdown",
      "metadata": {
        "id": "wHDJ7JiqHlsu"
      },
      "source": [
        "# = = = = = Attention Over Sentences in the Document = = = = ="
      ]
    },
    {
      "cell_type": "code",
      "metadata": {
        "colab": {
          "base_uri": "https://localhost:8080/"
        },
        "id": "Cjn9nUZC0WTn",
        "outputId": "70d3c109-91ab-4818-fb37-b06fcb79daf2"
      },
      "source": [
        "print(my_review_text)"
      ],
      "execution_count": null,
      "outputs": [
        {
          "output_type": "stream",
          "name": "stdout",
          "text": [
            "[['There', \"'s\", 'a', 'sign', 'on', 'The', 'Lost', 'Highway', 'that', 'says', ':', 'OOV', 'SPOILERS', 'OOV', '(', 'but', 'you', 'already', 'knew', 'that', ',', 'did', \"n't\", 'you', '?', ')'], ['Since', 'there', \"'s\", 'a', 'great', 'deal', 'of', 'people', 'that', 'apparently', 'did', 'not', 'get', 'the', 'point', 'of', 'this', 'movie', ',', 'I', \"'d\", 'like', 'to', 'contribute', 'my', 'interpretation', 'of', 'why', 'the', 'plot'], ['As', 'others', 'have', 'pointed', 'out', ',', 'one', 'single', 'viewing', 'of', 'this', 'movie', 'is', 'not', 'sufficient', '.'], ['If', 'you', 'have', 'the', 'DVD', 'of', 'MD', ',', 'you', 'can', 'OOV', \"'\", 'by', 'looking', 'at', 'David', 'Lynch', \"'s\", \"'Top\", '10', 'OOV', 'to', 'OOV', 'MD', \"'\", '(', 'but', 'only', 'upon', 'second'], [';', ')', 'First', 'of', 'all', ',', 'Mulholland', 'Drive', 'is', 'downright', 'brilliant', '.'], ['A', 'masterpiece', '.'], ['This', 'is', 'the', 'kind', 'of', 'movie', 'that', 'refuse', 'to', 'leave', 'your', 'head', '.']]\n"
          ]
        }
      ]
    },
    {
      "cell_type": "code",
      "metadata": {
        "colab": {
          "base_uri": "https://localhost:8080/"
        },
        "id": "yooWg3kkHlsu",
        "outputId": "4f75c694-823c-4674-abf6-221c0d6ecac7"
      },
      "source": [
        "sent_coeffs = get_sent_attention_coeffs.predict(my_review)\n",
        "sent_coeffs = sent_coeffs[0,:,:]\n",
        "\n",
        "for elt in zip(sent_coeffs[:,0].tolist(),[' '.join(elt) for elt in my_review_text]):\n",
        "    print(round(elt[0]*100,2),elt[1])"
      ],
      "execution_count": null,
      "outputs": [
        {
          "output_type": "stream",
          "name": "stdout",
          "text": [
            "1.83 There 's a sign on The Lost Highway that says : OOV SPOILERS OOV ( but you already knew that , did n't you ? )\n",
            "25.78 Since there 's a great deal of people that apparently did not get the point of this movie , I 'd like to contribute my interpretation of why the plot\n",
            "7.24 As others have pointed out , one single viewing of this movie is not sufficient .\n",
            "41.98 If you have the DVD of MD , you can OOV ' by looking at David Lynch 's 'Top 10 OOV to OOV MD ' ( but only upon second\n",
            "16.83 ; ) First of all , Mulholland Drive is downright brilliant .\n",
            "5.79 A masterpiece .\n",
            "0.55 This is the kind of movie that refuse to leave your head .\n"
          ]
        }
      ]
    },
    {
      "cell_type": "markdown",
      "metadata": {
        "id": "rII-DNrKHlsu"
      },
      "source": [
        "# = = = = = Attention Over Words in Each Sentence = = = = ="
      ]
    },
    {
      "cell_type": "code",
      "metadata": {
        "colab": {
          "base_uri": "https://localhost:8080/"
        },
        "id": "JyFjAga6Hlsu",
        "outputId": "2d33a684-a10c-4ed2-e911-f030a106883c"
      },
      "source": [
        "from keras.backend.tensorflow_backend import _to_tensor\n",
        "\n",
        "my_review_tensor = _to_tensor(my_review,dtype='float32') # a layer, unlike a model, requires a TensorFlow tensor as input\n",
        "\n",
        "word_coeffs = TimeDistributed(get_word_att_coeffs)(my_review_tensor)### fill the gap ### # get the word attentional coefficients for each sentence in the document\n",
        "print(word_coeffs)\n",
        "word_coeffs = K.eval(word_coeffs) # shape = (1, 7, 30, 1): (batch size, nb of sents in doc, nb of words per sent, coeff)\n",
        "word_coeffs = word_coeffs[0,:,:,0] # shape = (7, 30) (coeff for each word in each sentence)\n",
        "word_coeffs = sent_coeffs * word_coeffs # re-weight by sentence importance\n",
        "word_coeffs = np.round((word_coeffs*100).astype(np.float64),2)\n",
        "\n",
        "word_coeffs_list = word_coeffs.tolist()\n",
        "\n",
        "# match text and coefficients\n",
        "text_word_coeffs = [list(zip(words,word_coeffs_list[idx][:len(words)])) for idx,words in enumerate(my_review_text)]\n",
        "\n",
        "for sent in text_word_coeffs:\n",
        "    [print(elt) for elt in sent]  \n",
        "    print('= = = =')\n",
        "\n",
        "# sort words by importance within each sentence\n",
        "text_word_coeffs_sorted = [sorted(elt,key=operator.itemgetter(1),reverse=True) for elt in text_word_coeffs]\n",
        "\n",
        "for sent in text_word_coeffs_sorted:\n",
        "    [print(elt) for elt in sent]\n",
        "    print('= = = =')"
      ],
      "execution_count": null,
      "outputs": [
        {
          "output_type": "stream",
          "name": "stdout",
          "text": [
            "Tensor(\"time_distributed_2/transpose_1:0\", shape=(1, ?, ?, 1), dtype=float32)\n",
            "('There', 0.01)\n",
            "(\"'s\", 0.01)\n",
            "('a', 0.01)\n",
            "('sign', 0.0)\n",
            "('on', 0.05)\n",
            "('The', 0.08)\n",
            "('Lost', 1.03)\n",
            "('Highway', 0.18)\n",
            "('that', 0.03)\n",
            "('says', 0.01)\n",
            "(':', 0.0)\n",
            "('OOV', 0.0)\n",
            "('SPOILERS', 0.0)\n",
            "('OOV', 0.0)\n",
            "('(', 0.0)\n",
            "('but', 0.0)\n",
            "('you', 0.12)\n",
            "('already', 0.03)\n",
            "('knew', 0.02)\n",
            "('that', 0.03)\n",
            "(',', 0.02)\n",
            "('did', 0.01)\n",
            "(\"n't\", 0.01)\n",
            "('you', 0.03)\n",
            "('?', 0.01)\n",
            "(')', 0.03)\n",
            "= = = =\n",
            "('Since', 1.12)\n",
            "('there', 0.29)\n",
            "(\"'s\", 1.06)\n",
            "('a', 1.73)\n",
            "('great', 13.29)\n",
            "('deal', 3.38)\n",
            "('of', 1.05)\n",
            "('people', 3.08)\n",
            "('that', 0.2)\n",
            "('apparently', 0.07)\n",
            "('did', 0.03)\n",
            "('not', 0.01)\n",
            "('get', 0.01)\n",
            "('the', 0.01)\n",
            "('point', 0.01)\n",
            "('of', 0.0)\n",
            "('this', 0.0)\n",
            "('movie', 0.02)\n",
            "(',', 0.01)\n",
            "('I', 0.02)\n",
            "(\"'d\", 0.01)\n",
            "('like', 0.01)\n",
            "('to', 0.04)\n",
            "('contribute', 0.08)\n",
            "('my', 0.08)\n",
            "('interpretation', 0.11)\n",
            "('of', 0.01)\n",
            "('why', 0.02)\n",
            "('the', 0.02)\n",
            "('plot', 0.01)\n",
            "= = = =\n",
            "('As', 1.34)\n",
            "('others', 1.18)\n",
            "('have', 0.28)\n",
            "('pointed', 0.39)\n",
            "('out', 0.25)\n",
            "(',', 0.11)\n",
            "('one', 0.13)\n",
            "('single', 0.13)\n",
            "('viewing', 0.22)\n",
            "('of', 0.06)\n",
            "('this', 0.06)\n",
            "('movie', 0.24)\n",
            "('is', 0.19)\n",
            "('not', 0.36)\n",
            "('sufficient', 0.35)\n",
            "('.', 0.89)\n",
            "= = = =\n",
            "('If', 0.12)\n",
            "('you', 0.29)\n",
            "('have', 0.07)\n",
            "('the', 0.1)\n",
            "('DVD', 0.14)\n",
            "('of', 0.35)\n",
            "('MD', 1.42)\n",
            "(',', 0.16)\n",
            "('you', 0.28)\n",
            "('can', 0.12)\n",
            "('OOV', 0.11)\n",
            "(\"'\", 0.2)\n",
            "('by', 0.24)\n",
            "('looking', 0.08)\n",
            "('at', 1.5)\n",
            "('David', 1.22)\n",
            "('Lynch', 0.75)\n",
            "(\"'s\", 1.54)\n",
            "(\"'Top\", 5.97)\n",
            "('10', 0.33)\n",
            "('OOV', 0.2)\n",
            "('to', 0.45)\n",
            "('OOV', 0.64)\n",
            "('MD', 7.0)\n",
            "(\"'\", 0.44)\n",
            "('(', 0.4)\n",
            "('but', 0.14)\n",
            "('only', 4.27)\n",
            "('upon', 6.05)\n",
            "('second', 7.4)\n",
            "= = = =\n",
            "(';', 0.0)\n",
            "(')', 0.01)\n",
            "('First', 0.0)\n",
            "('of', 0.03)\n",
            "('all', 0.04)\n",
            "(',', 0.03)\n",
            "('Mulholland', 0.06)\n",
            "('Drive', 0.02)\n",
            "('is', 0.02)\n",
            "('downright', 0.02)\n",
            "('brilliant', 15.24)\n",
            "('.', 0.61)\n",
            "= = = =\n",
            "('A', 0.03)\n",
            "('masterpiece', 4.24)\n",
            "('.', 0.69)\n",
            "= = = =\n",
            "('This', 0.01)\n",
            "('is', 0.02)\n",
            "('the', 0.07)\n",
            "('kind', 0.04)\n",
            "('of', 0.04)\n",
            "('movie', 0.05)\n",
            "('that', 0.03)\n",
            "('refuse', 0.01)\n",
            "('to', 0.01)\n",
            "('leave', 0.01)\n",
            "('your', 0.09)\n",
            "('head', 0.06)\n",
            "('.', 0.04)\n",
            "= = = =\n",
            "('Lost', 1.03)\n",
            "('Highway', 0.18)\n",
            "('you', 0.12)\n",
            "('The', 0.08)\n",
            "('on', 0.05)\n",
            "('that', 0.03)\n",
            "('already', 0.03)\n",
            "('that', 0.03)\n",
            "('you', 0.03)\n",
            "(')', 0.03)\n",
            "('knew', 0.02)\n",
            "(',', 0.02)\n",
            "('There', 0.01)\n",
            "(\"'s\", 0.01)\n",
            "('a', 0.01)\n",
            "('says', 0.01)\n",
            "('did', 0.01)\n",
            "(\"n't\", 0.01)\n",
            "('?', 0.01)\n",
            "('sign', 0.0)\n",
            "(':', 0.0)\n",
            "('OOV', 0.0)\n",
            "('SPOILERS', 0.0)\n",
            "('OOV', 0.0)\n",
            "('(', 0.0)\n",
            "('but', 0.0)\n",
            "= = = =\n",
            "('great', 13.29)\n",
            "('deal', 3.38)\n",
            "('people', 3.08)\n",
            "('a', 1.73)\n",
            "('Since', 1.12)\n",
            "(\"'s\", 1.06)\n",
            "('of', 1.05)\n",
            "('there', 0.29)\n",
            "('that', 0.2)\n",
            "('interpretation', 0.11)\n",
            "('contribute', 0.08)\n",
            "('my', 0.08)\n",
            "('apparently', 0.07)\n",
            "('to', 0.04)\n",
            "('did', 0.03)\n",
            "('movie', 0.02)\n",
            "('I', 0.02)\n",
            "('why', 0.02)\n",
            "('the', 0.02)\n",
            "('not', 0.01)\n",
            "('get', 0.01)\n",
            "('the', 0.01)\n",
            "('point', 0.01)\n",
            "(',', 0.01)\n",
            "(\"'d\", 0.01)\n",
            "('like', 0.01)\n",
            "('of', 0.01)\n",
            "('plot', 0.01)\n",
            "('of', 0.0)\n",
            "('this', 0.0)\n",
            "= = = =\n",
            "('As', 1.34)\n",
            "('others', 1.18)\n",
            "('.', 0.89)\n",
            "('pointed', 0.39)\n",
            "('not', 0.36)\n",
            "('sufficient', 0.35)\n",
            "('have', 0.28)\n",
            "('out', 0.25)\n",
            "('movie', 0.24)\n",
            "('viewing', 0.22)\n",
            "('is', 0.19)\n",
            "('one', 0.13)\n",
            "('single', 0.13)\n",
            "(',', 0.11)\n",
            "('of', 0.06)\n",
            "('this', 0.06)\n",
            "= = = =\n",
            "('second', 7.4)\n",
            "('MD', 7.0)\n",
            "('upon', 6.05)\n",
            "(\"'Top\", 5.97)\n",
            "('only', 4.27)\n",
            "(\"'s\", 1.54)\n",
            "('at', 1.5)\n",
            "('MD', 1.42)\n",
            "('David', 1.22)\n",
            "('Lynch', 0.75)\n",
            "('OOV', 0.64)\n",
            "('to', 0.45)\n",
            "(\"'\", 0.44)\n",
            "('(', 0.4)\n",
            "('of', 0.35)\n",
            "('10', 0.33)\n",
            "('you', 0.29)\n",
            "('you', 0.28)\n",
            "('by', 0.24)\n",
            "(\"'\", 0.2)\n",
            "('OOV', 0.2)\n",
            "(',', 0.16)\n",
            "('DVD', 0.14)\n",
            "('but', 0.14)\n",
            "('If', 0.12)\n",
            "('can', 0.12)\n",
            "('OOV', 0.11)\n",
            "('the', 0.1)\n",
            "('looking', 0.08)\n",
            "('have', 0.07)\n",
            "= = = =\n",
            "('brilliant', 15.24)\n",
            "('.', 0.61)\n",
            "('Mulholland', 0.06)\n",
            "('all', 0.04)\n",
            "('of', 0.03)\n",
            "(',', 0.03)\n",
            "('Drive', 0.02)\n",
            "('is', 0.02)\n",
            "('downright', 0.02)\n",
            "(')', 0.01)\n",
            "(';', 0.0)\n",
            "('First', 0.0)\n",
            "= = = =\n",
            "('masterpiece', 4.24)\n",
            "('.', 0.69)\n",
            "('A', 0.03)\n",
            "= = = =\n",
            "('your', 0.09)\n",
            "('the', 0.07)\n",
            "('head', 0.06)\n",
            "('movie', 0.05)\n",
            "('kind', 0.04)\n",
            "('of', 0.04)\n",
            "('.', 0.04)\n",
            "('that', 0.03)\n",
            "('is', 0.02)\n",
            "('This', 0.01)\n",
            "('refuse', 0.01)\n",
            "('to', 0.01)\n",
            "('leave', 0.01)\n",
            "= = = =\n"
          ]
        }
      ]
    },
    {
      "cell_type": "code",
      "metadata": {
        "colab": {
          "base_uri": "https://localhost:8080/",
          "height": 1000
        },
        "id": "JGjCvogjEynl",
        "outputId": "b060c7cd-7082-429e-ead7-8d0ffacd7174"
      },
      "source": [
        "import matplotlib.pyplot as plt\n",
        "\n",
        "fig, axs = plt.subplots(7)\n",
        "fig.set_size_inches(20,20) \n",
        "i=0\n",
        "for sent in text_word_coeffs_sorted:\n",
        "    words=[elt[0] for elt in sent]\n",
        "    coefficients=[elt[1] for elt in sent]\n",
        "    axs[i].plot(words, coefficients)\n",
        "    i+=1\n",
        "\n",
        "plt.savefig('WordsVsCoefficients.png')"
      ],
      "execution_count": null,
      "outputs": [
        {
          "output_type": "display_data",
          "data": {
            "image/png": "[encoded data removed]",
            "text/plain": [
              "<Figure size 1440x1440 with 7 Axes>"
            ]
          },
          "metadata": {
            "needs_background": "light"
          }
        }
      ]
    },
    {
      "cell_type": "code",
      "metadata": {
        "colab": {
          "base_uri": "https://localhost:8080/",
          "height": 1000
        },
        "id": "r3wudYJtJXyy",
        "outputId": "977d84ed-3b9d-46d0-842f-0dbd1b295ada"
      },
      "source": [
        "import matplotlib.pyplot as plt\n",
        "\n",
        "fig, axs = plt.subplots(7)\n",
        "fig.set_size_inches(20,20) \n",
        "i=0\n",
        "for sent in text_word_coeffs_sorted:\n",
        "    words=[elt[0] for elt in sent]\n",
        "    coefficients=[elt[1] for elt in sent]\n",
        "    axs[i].scatter(words, coefficients)\n",
        "    i+=1\n",
        "\n",
        "plt.savefig('WordsVsCoefficients.png')"
      ],
      "execution_count": null,
      "outputs": [
        {
          "output_type": "display_data",
          "data": {
            "image/png": "[encoded data removed]",
            "text/plain": [
              "<Figure size 1440x1440 with 7 Axes>"
            ]
          },
          "metadata": {
            "needs_background": "light"
          }
        }
      ]
    }
  ]
}